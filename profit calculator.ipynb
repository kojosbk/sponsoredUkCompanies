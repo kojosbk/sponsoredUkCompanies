{
 "cells": [
  {
   "cell_type": "code",
   "execution_count": 3,
   "metadata": {},
   "outputs": [
    {
     "name": "stdout",
     "output_type": "stream",
     "text": [
      "You earned a profit of 3.071081850533801 GBP\n",
      "Initial GBP: 91.32\n",
      "Final GBP: 94.3910818505338\n"
     ]
    }
   ],
   "source": [
    "# Initialize variables \n",
    "initial_gbp = float(input(\"Enter initial amount in GBP: \"))\n",
    "kes_per_gbp = float(input(\"Enter exchange rate from lemonade - KES per 1 GBP: \"))\n",
    "usdt_per_kes = float(input(\"Enter exchange rate - USDT per 1 KES: \"))  \n",
    "gbp_per_usdt = float(input(\"Enter exchange rate - GBP per 1 USDT: \"))\n",
    "\n",
    "# Calculate exchanges\n",
    "kes_amount = initial_gbp * kes_per_gbp\n",
    "usdt_amount = kes_amount / usdt_per_kes\n",
    "final_gbp = usdt_amount * gbp_per_usdt\n",
    "\n",
    "# Determine profit/loss\n",
    "profit_loss = final_gbp - initial_gbp\n",
    "if profit_loss > 0:\n",
    "  print(f\"You earned a profit of {profit_loss} GBP\") \n",
    "elif profit_loss < 0:\n",
    "  print(f\"You had a loss of {-profit_loss} GBP\")\n",
    "else:\n",
    "  print(\"You broke even\")\n",
    "  \n",
    "print(f\"Initial GBP: {initial_gbp}\")  \n",
    "print(f\"Final GBP: {final_gbp}\")"
   ]
  }
 ],
 "metadata": {
  "kernelspec": {
   "display_name": "Python 3",
   "language": "python",
   "name": "python3"
  },
  "language_info": {
   "codemirror_mode": {
    "name": "ipython",
    "version": 3
   },
   "file_extension": ".py",
   "mimetype": "text/x-python",
   "name": "python",
   "nbconvert_exporter": "python",
   "pygments_lexer": "ipython3",
   "version": "3.10.0"
  },
  "orig_nbformat": 4
 },
 "nbformat": 4,
 "nbformat_minor": 2
}
